# %%
import pandas as pd
import numpy as np
import matplotlib.pyplot as plt
import seaborn as sns


# %%
path = "C:\\1_MS_DataScience\\Assignments\\Online Retail.xlsx"
df = pd.read_excel(path, sheet_name='OnlineRetail')

# %%
df_copy = df.copy()

# %%
df_copy.describe()

# %%
df_copy.info()

# %%
df_copy.isna(). sum()

# %%
cs = df_copy.dropna() #drop all the rows that has missing values

# %%
cs.loc[:, 'InvoiceDate'] = pd.to_datetime(cs['InvoiceDate']) #ensure Invoices feature has the right datatype 

# %%
#to check the start and end date of the dataframe
cs['InvoiceDate'].min(), cs['InvoiceDate'].max()

# %%
#DataPreprocessing 
cs2011 = cs[cs['InvoiceDate'].dt.year == 2011]


# %%
#Create a variable named Amount by multiplying Quantity with UnitPrice
cs.loc[:,'Amount'] = cs.Quantity * cs.UnitPrice

# %%
#Separate the variable InvoiceDate into two variables Date and Time.
cs.loc[:, 'Date'] = cs['InvoiceDate'].dt.date
cs.loc[:, 'Time'] = cs['InvoiceDate'].dt.time

# %%
cs.head()

# %%
#create a column Recency which counts the number of months that have passed since the invoice date
target_date = pd.Timestamp('2012-01-01')


# %%
cs.loc[:,'Recency'] = (target_date.year - cs['InvoiceDate'].dt.year) * 12 + (target_date.month - cs['InvoiceDate'].dt.month)

# %%
cs.head()

# %%
cs.loc[:,'Frequency'] = cs.groupby('CustomerID')['InvoiceDate'].transform('count') #make a frequency feature

# %%
cs.head()

# %%
#creating a newdataframe
cs_new = pd.DataFrame({
'Customerid' : cs['CustomerID'],
'Recency': cs['Recency'],
'Frequency': cs['Frequency'],
'Amount': cs['Amount'],
}
).reset_index()

# %%
# compute features from specific group
cs_new.groupby('Customerid').agg({
    'Recency' : ['min', 'max', 'mean'],
    'Frequency' : ['min', 'max', 'mean'],
    'Amount' : ['min', 'max', 'mean'],
})

# %%
cs_new.head()

# %%
##visually represent outlier
sns.displot(cs_new['Frequency'])


# %%
sns.displot(cs_new['Amount'].sample(30000, random_state=1))

# %%
#funciton to called the outlier 
def outliers(f, ft): 
    Q1 = f[ft].quantile(0.25)
    Q3 = f[ft].quantile(0.75)
    IQR = Q3 -Q1

    lower_bound = Q1 - 1.5* IQR
    upper_bound = Q3 + 1.5 *IQR
    ls = f[ (f[ft]< lower_bound) | (f[ft]> upper_bound)]

    return ls.index.tolist()


# %%
#create an empty list to store the output indices from multiple columns 
index_list = []
for features in ['Frequency', 'Amount']:
    index_list.extend(outliers(cs_new, features)) #we want to save the index list in the same list therefore I am using extend fucntion
print(index_list)

# %%
#function called remove which returns a clean dataframe without outliers
def remove(f, ls):
    ls = sorted(set(ls))
    f = f.drop(ls)
    return f

# %%
cs_cleaned = remove(cs_new, index_list)

# %%
cs_cleaned.shape

# %%
sns.displot(cs_cleaned['Frequency'])

# %%
sns.displot(cs_cleaned['Amount'])

# %%
#Create a scatterplot showing Frequency and Amount
plt.figure(figsize=(10,6))
sns.scatterplot(data = cs_cleaned, x = 'Frequency', y= 'Amount')
plt.title('Scatterplot of Frequency vs Amount')
plt.xlabel('Frequency')
plt.ylabel('Amount')
plt.grid(True)
plt.show()

# %%
#kmeans clustering 
from sklearn.cluster import KMeans

# %%
x = cs_new[['Frequency','Amount', 'Recency']]

# %%
k =[]

# %%
for i in range (2, 32): #as we dont know
    kmeans = KMeans(n_clusters= i, init='k-means++', random_state= 0)
    kmeans.fit(x)
   

# %%
k.append(kmeans.inertia_) 

# %%
plt.plot(range(2, 32), k, marker='o')
plt.title('Elbow Method for Optimal k')
plt.xlabel('Number of clusters')
plt.ylabel('Inertia')
plt.show()
