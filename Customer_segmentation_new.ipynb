{
 "cells": [
  {
   "cell_type": "markdown",
   "id": "a1ca2920",
   "metadata": {},
   "source": [
    "This project called Customer Segmentation part of Unsupervised Machine Learning. Data used in this peoject is transactional data set which contains all the transactions occurring between 01/12/2010 and 09/12/2011 for a UK-based and registered non-store online retail."
   ]
  },
  {
   "cell_type": "code",
   "execution_count": 5,
   "id": "96e1b8b8",
   "metadata": {},
   "outputs": [],
   "source": [
    "import pandas as pd\n",
    "import numpy as np\n",
    "import seaborn as sns\n",
    "import matplotlib.pyplot as plt\n",
    "from sklearn.preprocessing import StandardScaler\n",
    "from sklearn.cluster import KMeans\n",
    "from sklearn.metrics import silhouette_score"
   ]
  },
  {
   "cell_type": "code",
   "execution_count": 7,
   "id": "2fe16573",
   "metadata": {},
   "outputs": [],
   "source": [
    "path = \"C:\\\\1_MS_DataScience\\\\Assignments\\\\Online Retail.xlsx\"\n",
    "df = pd.read_excel(path, sheet_name='OnlineRetail')"
   ]
  },
  {
   "cell_type": "code",
   "execution_count": null,
   "id": "b4603700",
   "metadata": {},
   "outputs": [],
   "source": [
    "df_copy = df.copy() #make the copy "
   ]
  },
  {
   "cell_type": "code",
   "execution_count": 9,
   "id": "66be75a9",
   "metadata": {},
   "outputs": [
    {
     "data": {
      "text/html": [
       "<div>\n",
       "<style scoped>\n",
       "    .dataframe tbody tr th:only-of-type {\n",
       "        vertical-align: middle;\n",
       "    }\n",
       "\n",
       "    .dataframe tbody tr th {\n",
       "        vertical-align: top;\n",
       "    }\n",
       "\n",
       "    .dataframe thead th {\n",
       "        text-align: right;\n",
       "    }\n",
       "</style>\n",
       "<table border=\"1\" class=\"dataframe\">\n",
       "  <thead>\n",
       "    <tr style=\"text-align: right;\">\n",
       "      <th></th>\n",
       "      <th>Quantity</th>\n",
       "      <th>InvoiceDate</th>\n",
       "      <th>UnitPrice</th>\n",
       "      <th>CustomerID</th>\n",
       "    </tr>\n",
       "  </thead>\n",
       "  <tbody>\n",
       "    <tr>\n",
       "      <th>count</th>\n",
       "      <td>541909.000000</td>\n",
       "      <td>541909</td>\n",
       "      <td>541909.000000</td>\n",
       "      <td>406829.000000</td>\n",
       "    </tr>\n",
       "    <tr>\n",
       "      <th>mean</th>\n",
       "      <td>9.552250</td>\n",
       "      <td>2011-07-04 13:34:57.156386048</td>\n",
       "      <td>4.611114</td>\n",
       "      <td>15287.690570</td>\n",
       "    </tr>\n",
       "    <tr>\n",
       "      <th>min</th>\n",
       "      <td>-80995.000000</td>\n",
       "      <td>2010-12-01 08:26:00</td>\n",
       "      <td>-11062.060000</td>\n",
       "      <td>12346.000000</td>\n",
       "    </tr>\n",
       "    <tr>\n",
       "      <th>25%</th>\n",
       "      <td>1.000000</td>\n",
       "      <td>2011-03-28 11:34:00</td>\n",
       "      <td>1.250000</td>\n",
       "      <td>13953.000000</td>\n",
       "    </tr>\n",
       "    <tr>\n",
       "      <th>50%</th>\n",
       "      <td>3.000000</td>\n",
       "      <td>2011-07-19 17:17:00</td>\n",
       "      <td>2.080000</td>\n",
       "      <td>15152.000000</td>\n",
       "    </tr>\n",
       "    <tr>\n",
       "      <th>75%</th>\n",
       "      <td>10.000000</td>\n",
       "      <td>2011-10-19 11:27:00</td>\n",
       "      <td>4.130000</td>\n",
       "      <td>16791.000000</td>\n",
       "    </tr>\n",
       "    <tr>\n",
       "      <th>max</th>\n",
       "      <td>80995.000000</td>\n",
       "      <td>2011-12-09 12:50:00</td>\n",
       "      <td>38970.000000</td>\n",
       "      <td>18287.000000</td>\n",
       "    </tr>\n",
       "    <tr>\n",
       "      <th>std</th>\n",
       "      <td>218.081158</td>\n",
       "      <td>NaN</td>\n",
       "      <td>96.759853</td>\n",
       "      <td>1713.600303</td>\n",
       "    </tr>\n",
       "  </tbody>\n",
       "</table>\n",
       "</div>"
      ],
      "text/plain": [
       "            Quantity                    InvoiceDate      UnitPrice  \\\n",
       "count  541909.000000                         541909  541909.000000   \n",
       "mean        9.552250  2011-07-04 13:34:57.156386048       4.611114   \n",
       "min    -80995.000000            2010-12-01 08:26:00  -11062.060000   \n",
       "25%         1.000000            2011-03-28 11:34:00       1.250000   \n",
       "50%         3.000000            2011-07-19 17:17:00       2.080000   \n",
       "75%        10.000000            2011-10-19 11:27:00       4.130000   \n",
       "max     80995.000000            2011-12-09 12:50:00   38970.000000   \n",
       "std       218.081158                            NaN      96.759853   \n",
       "\n",
       "          CustomerID  \n",
       "count  406829.000000  \n",
       "mean    15287.690570  \n",
       "min     12346.000000  \n",
       "25%     13953.000000  \n",
       "50%     15152.000000  \n",
       "75%     16791.000000  \n",
       "max     18287.000000  \n",
       "std      1713.600303  "
      ]
     },
     "execution_count": 9,
     "metadata": {},
     "output_type": "execute_result"
    }
   ],
   "source": [
    "df_copy.describe()"
   ]
  },
  {
   "cell_type": "code",
   "execution_count": 10,
   "id": "d194c8df",
   "metadata": {},
   "outputs": [
    {
     "name": "stdout",
     "output_type": "stream",
     "text": [
      "<class 'pandas.core.frame.DataFrame'>\n",
      "RangeIndex: 541909 entries, 0 to 541908\n",
      "Data columns (total 8 columns):\n",
      " #   Column       Non-Null Count   Dtype         \n",
      "---  ------       --------------   -----         \n",
      " 0   InvoiceNo    541909 non-null  object        \n",
      " 1   StockCode    541909 non-null  object        \n",
      " 2   Description  540455 non-null  object        \n",
      " 3   Quantity     541909 non-null  int64         \n",
      " 4   InvoiceDate  541909 non-null  datetime64[ns]\n",
      " 5   UnitPrice    541909 non-null  float64       \n",
      " 6   CustomerID   406829 non-null  float64       \n",
      " 7   Country      541909 non-null  object        \n",
      "dtypes: datetime64[ns](1), float64(2), int64(1), object(4)\n",
      "memory usage: 33.1+ MB\n"
     ]
    }
   ],
   "source": [
    "df_copy.info()"
   ]
  },
  {
   "cell_type": "code",
   "execution_count": 11,
   "id": "c812232b",
   "metadata": {},
   "outputs": [
    {
     "data": {
      "text/plain": [
       "InvoiceNo           0\n",
       "StockCode           0\n",
       "Description      1454\n",
       "Quantity            0\n",
       "InvoiceDate         0\n",
       "UnitPrice           0\n",
       "CustomerID     135080\n",
       "Country             0\n",
       "dtype: int64"
      ]
     },
     "execution_count": 11,
     "metadata": {},
     "output_type": "execute_result"
    }
   ],
   "source": [
    "df_copy.isna(). sum()"
   ]
  },
  {
   "cell_type": "code",
   "execution_count": 12,
   "id": "8283c826",
   "metadata": {},
   "outputs": [],
   "source": [
    "cs = df_copy.dropna() #drop all the rows that has missing values"
   ]
  },
  {
   "cell_type": "code",
   "execution_count": 14,
   "id": "98916ee9",
   "metadata": {},
   "outputs": [],
   "source": [
    "cs.loc[:, 'InvoiceDate'] = pd.to_datetime(cs['InvoiceDate']) #ensure Invoices feature has the right datatype "
   ]
  },
  {
   "cell_type": "code",
   "execution_count": 15,
   "id": "0e8da50b",
   "metadata": {},
   "outputs": [
    {
     "data": {
      "text/plain": [
       "(Timestamp('2010-12-01 08:26:00'), Timestamp('2011-12-09 12:50:00'))"
      ]
     },
     "execution_count": 15,
     "metadata": {},
     "output_type": "execute_result"
    }
   ],
   "source": [
    "#to check the start and end date of the dataframe\n",
    "cs['InvoiceDate'].min(), cs['InvoiceDate'].max()"
   ]
  },
  {
   "cell_type": "code",
   "execution_count": 16,
   "id": "b11692b4",
   "metadata": {},
   "outputs": [],
   "source": [
    "#DataPreprocessing \n",
    "cs2011 = cs[cs['InvoiceDate'].dt.year == 2011]"
   ]
  },
  {
   "cell_type": "code",
   "execution_count": 30,
   "id": "74b0eca6",
   "metadata": {},
   "outputs": [
    {
     "name": "stderr",
     "output_type": "stream",
     "text": [
      "C:\\Users\\iqrra\\AppData\\Local\\Temp\\ipykernel_28860\\3033052105.py:2: SettingWithCopyWarning: \n",
      "A value is trying to be set on a copy of a slice from a DataFrame.\n",
      "Try using .loc[row_indexer,col_indexer] = value instead\n",
      "\n",
      "See the caveats in the documentation: https://pandas.pydata.org/pandas-docs/stable/user_guide/indexing.html#returning-a-view-versus-a-copy\n",
      "  cs2011['Amount'] = cs.Quantity * cs.UnitPrice\n"
     ]
    }
   ],
   "source": [
    "#Create a variable named Amount by multiplying Quantity with UnitPrice\n",
    "cs2011['Amount'] = cs.Quantity * cs.UnitPrice"
   ]
  },
  {
   "cell_type": "code",
   "execution_count": 31,
   "id": "31f80f80",
   "metadata": {},
   "outputs": [
    {
     "name": "stderr",
     "output_type": "stream",
     "text": [
      "C:\\Users\\iqrra\\AppData\\Local\\Temp\\ipykernel_28860\\3890937070.py:2: SettingWithCopyWarning: \n",
      "A value is trying to be set on a copy of a slice from a DataFrame.\n",
      "Try using .loc[row_indexer,col_indexer] = value instead\n",
      "\n",
      "See the caveats in the documentation: https://pandas.pydata.org/pandas-docs/stable/user_guide/indexing.html#returning-a-view-versus-a-copy\n",
      "  cs2011['Date'] = cs['InvoiceDate'].dt.date\n",
      "C:\\Users\\iqrra\\AppData\\Local\\Temp\\ipykernel_28860\\3890937070.py:3: SettingWithCopyWarning: \n",
      "A value is trying to be set on a copy of a slice from a DataFrame.\n",
      "Try using .loc[row_indexer,col_indexer] = value instead\n",
      "\n",
      "See the caveats in the documentation: https://pandas.pydata.org/pandas-docs/stable/user_guide/indexing.html#returning-a-view-versus-a-copy\n",
      "  cs2011['Time'] = cs['InvoiceDate'].dt.time\n"
     ]
    }
   ],
   "source": [
    "#Separate the variable InvoiceDate into two variables Date and Time.\n",
    "cs2011['Date'] = cs['InvoiceDate'].dt.date\n",
    "cs2011['Time'] = cs['InvoiceDate'].dt.time"
   ]
  },
  {
   "cell_type": "code",
   "execution_count": 32,
   "id": "44eacafb",
   "metadata": {},
   "outputs": [
    {
     "data": {
      "text/html": [
       "<div>\n",
       "<style scoped>\n",
       "    .dataframe tbody tr th:only-of-type {\n",
       "        vertical-align: middle;\n",
       "    }\n",
       "\n",
       "    .dataframe tbody tr th {\n",
       "        vertical-align: top;\n",
       "    }\n",
       "\n",
       "    .dataframe thead th {\n",
       "        text-align: right;\n",
       "    }\n",
       "</style>\n",
       "<table border=\"1\" class=\"dataframe\">\n",
       "  <thead>\n",
       "    <tr style=\"text-align: right;\">\n",
       "      <th></th>\n",
       "      <th>InvoiceNo</th>\n",
       "      <th>StockCode</th>\n",
       "      <th>Description</th>\n",
       "      <th>Quantity</th>\n",
       "      <th>InvoiceDate</th>\n",
       "      <th>UnitPrice</th>\n",
       "      <th>CustomerID</th>\n",
       "      <th>Country</th>\n",
       "      <th>Amount</th>\n",
       "      <th>Date</th>\n",
       "      <th>Time</th>\n",
       "    </tr>\n",
       "  </thead>\n",
       "  <tbody>\n",
       "    <tr>\n",
       "      <th>42481</th>\n",
       "      <td>539993</td>\n",
       "      <td>22386</td>\n",
       "      <td>JUMBO BAG PINK POLKADOT</td>\n",
       "      <td>10</td>\n",
       "      <td>2011-01-04 10:00:00</td>\n",
       "      <td>1.95</td>\n",
       "      <td>13313.0</td>\n",
       "      <td>United Kingdom</td>\n",
       "      <td>19.5</td>\n",
       "      <td>2011-01-04</td>\n",
       "      <td>10:00:00</td>\n",
       "    </tr>\n",
       "    <tr>\n",
       "      <th>42482</th>\n",
       "      <td>539993</td>\n",
       "      <td>21499</td>\n",
       "      <td>BLUE POLKADOT WRAP</td>\n",
       "      <td>25</td>\n",
       "      <td>2011-01-04 10:00:00</td>\n",
       "      <td>0.42</td>\n",
       "      <td>13313.0</td>\n",
       "      <td>United Kingdom</td>\n",
       "      <td>10.5</td>\n",
       "      <td>2011-01-04</td>\n",
       "      <td>10:00:00</td>\n",
       "    </tr>\n",
       "    <tr>\n",
       "      <th>42483</th>\n",
       "      <td>539993</td>\n",
       "      <td>21498</td>\n",
       "      <td>RED RETROSPOT WRAP</td>\n",
       "      <td>25</td>\n",
       "      <td>2011-01-04 10:00:00</td>\n",
       "      <td>0.42</td>\n",
       "      <td>13313.0</td>\n",
       "      <td>United Kingdom</td>\n",
       "      <td>10.5</td>\n",
       "      <td>2011-01-04</td>\n",
       "      <td>10:00:00</td>\n",
       "    </tr>\n",
       "    <tr>\n",
       "      <th>42484</th>\n",
       "      <td>539993</td>\n",
       "      <td>22379</td>\n",
       "      <td>RECYCLING BAG RETROSPOT</td>\n",
       "      <td>5</td>\n",
       "      <td>2011-01-04 10:00:00</td>\n",
       "      <td>2.10</td>\n",
       "      <td>13313.0</td>\n",
       "      <td>United Kingdom</td>\n",
       "      <td>10.5</td>\n",
       "      <td>2011-01-04</td>\n",
       "      <td>10:00:00</td>\n",
       "    </tr>\n",
       "    <tr>\n",
       "      <th>42485</th>\n",
       "      <td>539993</td>\n",
       "      <td>20718</td>\n",
       "      <td>RED RETROSPOT SHOPPER BAG</td>\n",
       "      <td>10</td>\n",
       "      <td>2011-01-04 10:00:00</td>\n",
       "      <td>1.25</td>\n",
       "      <td>13313.0</td>\n",
       "      <td>United Kingdom</td>\n",
       "      <td>12.5</td>\n",
       "      <td>2011-01-04</td>\n",
       "      <td>10:00:00</td>\n",
       "    </tr>\n",
       "  </tbody>\n",
       "</table>\n",
       "</div>"
      ],
      "text/plain": [
       "      InvoiceNo StockCode                Description  Quantity  \\\n",
       "42481    539993     22386    JUMBO BAG PINK POLKADOT        10   \n",
       "42482    539993     21499         BLUE POLKADOT WRAP        25   \n",
       "42483    539993     21498        RED RETROSPOT WRAP         25   \n",
       "42484    539993     22379   RECYCLING BAG RETROSPOT          5   \n",
       "42485    539993     20718  RED RETROSPOT SHOPPER BAG        10   \n",
       "\n",
       "              InvoiceDate  UnitPrice  CustomerID         Country  Amount  \\\n",
       "42481 2011-01-04 10:00:00       1.95     13313.0  United Kingdom    19.5   \n",
       "42482 2011-01-04 10:00:00       0.42     13313.0  United Kingdom    10.5   \n",
       "42483 2011-01-04 10:00:00       0.42     13313.0  United Kingdom    10.5   \n",
       "42484 2011-01-04 10:00:00       2.10     13313.0  United Kingdom    10.5   \n",
       "42485 2011-01-04 10:00:00       1.25     13313.0  United Kingdom    12.5   \n",
       "\n",
       "             Date      Time  \n",
       "42481  2011-01-04  10:00:00  \n",
       "42482  2011-01-04  10:00:00  \n",
       "42483  2011-01-04  10:00:00  \n",
       "42484  2011-01-04  10:00:00  \n",
       "42485  2011-01-04  10:00:00  "
      ]
     },
     "execution_count": 32,
     "metadata": {},
     "output_type": "execute_result"
    }
   ],
   "source": [
    "cs2011.head()"
   ]
  },
  {
   "cell_type": "code",
   "execution_count": 51,
   "id": "d86a6071",
   "metadata": {},
   "outputs": [
    {
     "name": "stderr",
     "output_type": "stream",
     "text": [
      "C:\\Users\\iqrra\\AppData\\Local\\Temp\\ipykernel_28860\\3340346108.py:3: SettingWithCopyWarning: \n",
      "A value is trying to be set on a copy of a slice from a DataFrame.\n",
      "Try using .loc[row_indexer,col_indexer] = value instead\n",
      "\n",
      "See the caveats in the documentation: https://pandas.pydata.org/pandas-docs/stable/user_guide/indexing.html#returning-a-view-versus-a-copy\n",
      "  cs2011['Recency'] = (target_date.year - cs2011['InvoiceDate'].dt.year) * 12 + (target_date.month - cs2011['InvoiceDate'].dt.month)\n"
     ]
    }
   ],
   "source": [
    "#create a column Recency which counts the number of months that have passed since the invoice date\n",
    "target_date = pd.Timestamp('2012-01-01')\n",
    "cs2011['Recency'] = (target_date.year - cs2011['InvoiceDate'].dt.year) * 12 + (target_date.month - cs2011['InvoiceDate'].dt.month)\n"
   ]
  },
  {
   "cell_type": "code",
   "execution_count": 35,
   "id": "9639e26d",
   "metadata": {},
   "outputs": [
    {
     "data": {
      "text/html": [
       "<div>\n",
       "<style scoped>\n",
       "    .dataframe tbody tr th:only-of-type {\n",
       "        vertical-align: middle;\n",
       "    }\n",
       "\n",
       "    .dataframe tbody tr th {\n",
       "        vertical-align: top;\n",
       "    }\n",
       "\n",
       "    .dataframe thead th {\n",
       "        text-align: right;\n",
       "    }\n",
       "</style>\n",
       "<table border=\"1\" class=\"dataframe\">\n",
       "  <thead>\n",
       "    <tr style=\"text-align: right;\">\n",
       "      <th></th>\n",
       "      <th>InvoiceNo</th>\n",
       "      <th>StockCode</th>\n",
       "      <th>Description</th>\n",
       "      <th>Quantity</th>\n",
       "      <th>InvoiceDate</th>\n",
       "      <th>UnitPrice</th>\n",
       "      <th>CustomerID</th>\n",
       "      <th>Country</th>\n",
       "      <th>Amount</th>\n",
       "      <th>Date</th>\n",
       "      <th>Time</th>\n",
       "      <th>Recency</th>\n",
       "    </tr>\n",
       "  </thead>\n",
       "  <tbody>\n",
       "    <tr>\n",
       "      <th>42481</th>\n",
       "      <td>539993</td>\n",
       "      <td>22386</td>\n",
       "      <td>JUMBO BAG PINK POLKADOT</td>\n",
       "      <td>10</td>\n",
       "      <td>2011-01-04 10:00:00</td>\n",
       "      <td>1.95</td>\n",
       "      <td>13313.0</td>\n",
       "      <td>United Kingdom</td>\n",
       "      <td>19.5</td>\n",
       "      <td>2011-01-04</td>\n",
       "      <td>10:00:00</td>\n",
       "      <td>12</td>\n",
       "    </tr>\n",
       "    <tr>\n",
       "      <th>42482</th>\n",
       "      <td>539993</td>\n",
       "      <td>21499</td>\n",
       "      <td>BLUE POLKADOT WRAP</td>\n",
       "      <td>25</td>\n",
       "      <td>2011-01-04 10:00:00</td>\n",
       "      <td>0.42</td>\n",
       "      <td>13313.0</td>\n",
       "      <td>United Kingdom</td>\n",
       "      <td>10.5</td>\n",
       "      <td>2011-01-04</td>\n",
       "      <td>10:00:00</td>\n",
       "      <td>12</td>\n",
       "    </tr>\n",
       "    <tr>\n",
       "      <th>42483</th>\n",
       "      <td>539993</td>\n",
       "      <td>21498</td>\n",
       "      <td>RED RETROSPOT WRAP</td>\n",
       "      <td>25</td>\n",
       "      <td>2011-01-04 10:00:00</td>\n",
       "      <td>0.42</td>\n",
       "      <td>13313.0</td>\n",
       "      <td>United Kingdom</td>\n",
       "      <td>10.5</td>\n",
       "      <td>2011-01-04</td>\n",
       "      <td>10:00:00</td>\n",
       "      <td>12</td>\n",
       "    </tr>\n",
       "    <tr>\n",
       "      <th>42484</th>\n",
       "      <td>539993</td>\n",
       "      <td>22379</td>\n",
       "      <td>RECYCLING BAG RETROSPOT</td>\n",
       "      <td>5</td>\n",
       "      <td>2011-01-04 10:00:00</td>\n",
       "      <td>2.10</td>\n",
       "      <td>13313.0</td>\n",
       "      <td>United Kingdom</td>\n",
       "      <td>10.5</td>\n",
       "      <td>2011-01-04</td>\n",
       "      <td>10:00:00</td>\n",
       "      <td>12</td>\n",
       "    </tr>\n",
       "    <tr>\n",
       "      <th>42485</th>\n",
       "      <td>539993</td>\n",
       "      <td>20718</td>\n",
       "      <td>RED RETROSPOT SHOPPER BAG</td>\n",
       "      <td>10</td>\n",
       "      <td>2011-01-04 10:00:00</td>\n",
       "      <td>1.25</td>\n",
       "      <td>13313.0</td>\n",
       "      <td>United Kingdom</td>\n",
       "      <td>12.5</td>\n",
       "      <td>2011-01-04</td>\n",
       "      <td>10:00:00</td>\n",
       "      <td>12</td>\n",
       "    </tr>\n",
       "  </tbody>\n",
       "</table>\n",
       "</div>"
      ],
      "text/plain": [
       "      InvoiceNo StockCode                Description  Quantity  \\\n",
       "42481    539993     22386    JUMBO BAG PINK POLKADOT        10   \n",
       "42482    539993     21499         BLUE POLKADOT WRAP        25   \n",
       "42483    539993     21498        RED RETROSPOT WRAP         25   \n",
       "42484    539993     22379   RECYCLING BAG RETROSPOT          5   \n",
       "42485    539993     20718  RED RETROSPOT SHOPPER BAG        10   \n",
       "\n",
       "              InvoiceDate  UnitPrice  CustomerID         Country  Amount  \\\n",
       "42481 2011-01-04 10:00:00       1.95     13313.0  United Kingdom    19.5   \n",
       "42482 2011-01-04 10:00:00       0.42     13313.0  United Kingdom    10.5   \n",
       "42483 2011-01-04 10:00:00       0.42     13313.0  United Kingdom    10.5   \n",
       "42484 2011-01-04 10:00:00       2.10     13313.0  United Kingdom    10.5   \n",
       "42485 2011-01-04 10:00:00       1.25     13313.0  United Kingdom    12.5   \n",
       "\n",
       "             Date      Time  Recency  \n",
       "42481  2011-01-04  10:00:00       12  \n",
       "42482  2011-01-04  10:00:00       12  \n",
       "42483  2011-01-04  10:00:00       12  \n",
       "42484  2011-01-04  10:00:00       12  \n",
       "42485  2011-01-04  10:00:00       12  "
      ]
     },
     "execution_count": 35,
     "metadata": {},
     "output_type": "execute_result"
    }
   ],
   "source": [
    "cs2011.head()"
   ]
  },
  {
   "cell_type": "code",
   "execution_count": 38,
   "id": "bc557436",
   "metadata": {},
   "outputs": [],
   "source": [
    "csgrouped= cs2011.groupby(\"CustomerID\").agg( \n",
    "Recency=pd.NamedAgg(column=\"Recency\", aggfunc=\"min\"),\n",
    "Frequency=pd.NamedAgg(column=\"InvoiceNo\", aggfunc=\"count\"),\n",
    "Amount=pd.NamedAgg(column=\"Amount\", aggfunc=\"sum\"),\n",
    "Minimum=pd.NamedAgg(column=\"Amount\", aggfunc=\"min\"),\n",
    "Maximum=pd.NamedAgg(column=\"Amount\", aggfunc=\"max\"),\n",
    "Mean=pd.NamedAgg(column=\"Amount\", aggfunc=\"mean\"),\n",
    ")"
   ]
  },
  {
   "cell_type": "code",
   "execution_count": 40,
   "id": "72016a60",
   "metadata": {},
   "outputs": [
    {
     "data": {
      "text/html": [
       "<div>\n",
       "<style scoped>\n",
       "    .dataframe tbody tr th:only-of-type {\n",
       "        vertical-align: middle;\n",
       "    }\n",
       "\n",
       "    .dataframe tbody tr th {\n",
       "        vertical-align: top;\n",
       "    }\n",
       "\n",
       "    .dataframe thead th {\n",
       "        text-align: right;\n",
       "    }\n",
       "</style>\n",
       "<table border=\"1\" class=\"dataframe\">\n",
       "  <thead>\n",
       "    <tr style=\"text-align: right;\">\n",
       "      <th></th>\n",
       "      <th>Recency</th>\n",
       "      <th>Frequency</th>\n",
       "      <th>Amount</th>\n",
       "      <th>Minimum</th>\n",
       "      <th>Maximum</th>\n",
       "      <th>Mean</th>\n",
       "    </tr>\n",
       "  </thead>\n",
       "  <tbody>\n",
       "    <tr>\n",
       "      <th>count</th>\n",
       "      <td>4244.000000</td>\n",
       "      <td>4244.000000</td>\n",
       "      <td>4244.000000</td>\n",
       "      <td>4244.000000</td>\n",
       "      <td>4244.000000</td>\n",
       "      <td>4244.000000</td>\n",
       "    </tr>\n",
       "    <tr>\n",
       "      <th>mean</th>\n",
       "      <td>3.936616</td>\n",
       "      <td>89.533223</td>\n",
       "      <td>1825.038123</td>\n",
       "      <td>-87.679019</td>\n",
       "      <td>185.231407</td>\n",
       "      <td>28.566537</td>\n",
       "    </tr>\n",
       "    <tr>\n",
       "      <th>std</th>\n",
       "      <td>2.986889</td>\n",
       "      <td>223.075476</td>\n",
       "      <td>7885.717927</td>\n",
       "      <td>2919.310184</td>\n",
       "      <td>2923.232144</td>\n",
       "      <td>127.779390</td>\n",
       "    </tr>\n",
       "    <tr>\n",
       "      <th>min</th>\n",
       "      <td>1.000000</td>\n",
       "      <td>1.000000</td>\n",
       "      <td>-4287.630000</td>\n",
       "      <td>-168469.600000</td>\n",
       "      <td>-4287.630000</td>\n",
       "      <td>-4287.630000</td>\n",
       "    </tr>\n",
       "    <tr>\n",
       "      <th>25%</th>\n",
       "      <td>2.000000</td>\n",
       "      <td>17.000000</td>\n",
       "      <td>290.955000</td>\n",
       "      <td>-9.950000</td>\n",
       "      <td>31.600000</td>\n",
       "      <td>11.040220</td>\n",
       "    </tr>\n",
       "    <tr>\n",
       "      <th>50%</th>\n",
       "      <td>3.000000</td>\n",
       "      <td>41.000000</td>\n",
       "      <td>642.485000</td>\n",
       "      <td>0.850000</td>\n",
       "      <td>51.000000</td>\n",
       "      <td>16.954425</td>\n",
       "    </tr>\n",
       "    <tr>\n",
       "      <th>75%</th>\n",
       "      <td>5.000000</td>\n",
       "      <td>98.000000</td>\n",
       "      <td>1563.750000</td>\n",
       "      <td>6.960000</td>\n",
       "      <td>102.000000</td>\n",
       "      <td>23.478778</td>\n",
       "    </tr>\n",
       "    <tr>\n",
       "      <th>max</th>\n",
       "      <td>12.000000</td>\n",
       "      <td>7692.000000</td>\n",
       "      <td>270897.140000</td>\n",
       "      <td>3861.000000</td>\n",
       "      <td>168469.600000</td>\n",
       "      <td>3861.000000</td>\n",
       "    </tr>\n",
       "  </tbody>\n",
       "</table>\n",
       "</div>"
      ],
      "text/plain": [
       "           Recency    Frequency         Amount        Minimum        Maximum  \\\n",
       "count  4244.000000  4244.000000    4244.000000    4244.000000    4244.000000   \n",
       "mean      3.936616    89.533223    1825.038123     -87.679019     185.231407   \n",
       "std       2.986889   223.075476    7885.717927    2919.310184    2923.232144   \n",
       "min       1.000000     1.000000   -4287.630000 -168469.600000   -4287.630000   \n",
       "25%       2.000000    17.000000     290.955000      -9.950000      31.600000   \n",
       "50%       3.000000    41.000000     642.485000       0.850000      51.000000   \n",
       "75%       5.000000    98.000000    1563.750000       6.960000     102.000000   \n",
       "max      12.000000  7692.000000  270897.140000    3861.000000  168469.600000   \n",
       "\n",
       "              Mean  \n",
       "count  4244.000000  \n",
       "mean     28.566537  \n",
       "std     127.779390  \n",
       "min   -4287.630000  \n",
       "25%      11.040220  \n",
       "50%      16.954425  \n",
       "75%      23.478778  \n",
       "max    3861.000000  "
      ]
     },
     "execution_count": 40,
     "metadata": {},
     "output_type": "execute_result"
    }
   ],
   "source": [
    "csgrouped.describe()"
   ]
  },
  {
   "cell_type": "code",
   "execution_count": 41,
   "id": "2209bf11",
   "metadata": {},
   "outputs": [
    {
     "name": "stdout",
     "output_type": "stream",
     "text": [
      "Old Shape:  (4244, 6)\n"
     ]
    }
   ],
   "source": [
    "print(\"Old Shape: \", csgrouped.shape)"
   ]
  },
  {
   "cell_type": "code",
   "execution_count": null,
   "id": "376d4e45",
   "metadata": {},
   "outputs": [],
   "source": [
    "#remove the outliers \n",
    "import numpy as np\n",
    "import matplotlib.pyplot as plt\n",
    "\n",
    "def removeOutliers(data, col, show_plot=True):\n",
    "    Q1 = np.quantile(data[col], 0.25)\n",
    "    Q3 = np.quantile(data[col], 0.75)\n",
    "    IQR = Q3 - Q1\n",
    "\n",
    "    lower_range = Q1 - 1.5 * IQR\n",
    "    upper_range = Q3 + 1.5 * IQR\n",
    "\n",
    "    print(f\"IQR voor {col}: {IQR:.2f} (lower: {lower_range:.2f}, upper: {upper_range:.2f})\")\n",
    "\n",
    "    # Plot histogram met grenzen\n",
    "    if show_plot:\n",
    "        plt.figure(figsize=(8, 4))\n",
    "        plt.hist(data[col], bins=200, alpha=0.7, color='skyblue', edgecolor='black')\n",
    "        plt.axvline(lower_range, color='red', linestyle='--', label='Lower Bound')\n",
    "        plt.axvline(upper_range, color='red', linestyle='--', label='Upper Bound')\n",
    "        plt.title(f\"Histogram van '{col}' met outlier-grenzen\")\n",
    "        plt.xlabel(col)\n",
    "        plt.ylabel(\"Aantal\")\n",
    "        plt.legend()\n",
    "        plt.tight_layout()\n",
    "        plt.show()\n",
    "\n",
    "    # Verwijder outliers\n",
    "    filtered_data = data[(data[col] > lower_range) & (data[col] < upper_range)]\n",
    "\n",
    "    return filtered_data"
   ]
  },
  {
   "cell_type": "code",
   "execution_count": 43,
   "id": "2a7bceb4",
   "metadata": {},
   "outputs": [
    {
     "name": "stdout",
     "output_type": "stream",
     "text": [
      "IQR voor Frequency: 81.00 (lower: -104.50, upper: 219.50)\n"
     ]
    },
    {
     "data": {
      "image/png": "[encoded data removed]",
      "text/plain": [
       "<Figure size 800x400 with 1 Axes>"
      ]
     },
     "metadata": {},
     "output_type": "display_data"
    },
    {
     "name": "stdout",
     "output_type": "stream",
     "text": [
      "IQR voor Amount: 984.78 (lower: -1214.27, upper: 2724.83)\n"
     ]
    },
    {
     "data": {
      "image/png": "[encoded data removed]",
      "text/plain": [
       "<Figure size 800x400 with 1 Axes>"
      ]
     },
     "metadata": {},
     "output_type": "display_data"
    }
   ],
   "source": [
    "columns_outliers = ['Frequency', 'Amount']\n",
    "\n",
    "for column in columns_outliers:\n",
    "     csgrouped = removeOutliers(csgrouped, column)"
   ]
  },
  {
   "cell_type": "code",
   "execution_count": 44,
   "id": "dc523d66",
   "metadata": {},
   "outputs": [
    {
     "name": "stdout",
     "output_type": "stream",
     "text": [
      "New Shape:  (3579, 6)\n"
     ]
    }
   ],
   "source": [
    "print(\"New Shape: \", csgrouped.shape)"
   ]
  },
  {
   "cell_type": "code",
   "execution_count": 55,
   "id": "44fb1d7d",
   "metadata": {},
   "outputs": [
    {
     "name": "stderr",
     "output_type": "stream",
     "text": [
      "c:\\1_MS_DataScience\\Assignments\\customerSegmentation\\.venv\\Lib\\site-packages\\pandas\\plotting\\_matplotlib\\core.py:1351: UserWarning: No data for colormapping provided via 'c'. Parameters 'cmap' will be ignored\n",
      "  scatter = ax.scatter(\n"
     ]
    },
    {
     "data": {
      "image/png": "[encoded data removed]",
      "text/plain": [
       "<Figure size 640x480 with 1 Axes>"
      ]
     },
     "metadata": {},
     "output_type": "display_data"
    }
   ],
   "source": [
    "csgrouped.plot(kind='scatter', x='Frequency', y ='Amount', grid=True, cmap='jet', legend=True)\n",
    "plt.show()"
   ]
  },
  {
   "cell_type": "code",
   "execution_count": 46,
   "id": "0909f6d7",
   "metadata": {},
   "outputs": [],
   "source": [
    "from sklearn.preprocessing import StandardScaler\n",
    "from sklearn.cluster import KMeans\n",
    "from sklearn.metrics import silhouette_score\n",
    "\n",
    "X = csgrouped[['Frequency', 'Recency', 'Amount']]\n",
    "\n",
    "scaler = StandardScaler()\n",
    "X_scaled = scaler.fit_transform(X)\n",
    "\n",
    "inertias = []\n",
    "K = range(2, 31)\n",
    "\n",
    "for k in K:\n",
    "    kmeans = KMeans(n_clusters=k, random_state=42)\n",
    "    kmeans.fit(X_scaled)\n",
    "    inertias.append(kmeans.inertia_)"
   ]
  },
  {
   "cell_type": "code",
   "execution_count": 47,
   "id": "45977230",
   "metadata": {},
   "outputs": [
    {
     "data": {
      "text/plain": [
       "[6067.340124010901,\n",
       " 3765.937354313079,\n",
       " 3150.6257142287764,\n",
       " 2826.5033769842194,\n",
       " 2286.4607279441934,\n",
       " 1978.5695007563554,\n",
       " 1797.031319231381,\n",
       " 1620.7249928198758,\n",
       " 1553.9264418635917,\n",
       " 1392.8180245949961,\n",
       " 1326.780105393092,\n",
       " 1252.922845598807,\n",
       " 1208.372240057983,\n",
       " 1172.4191286782675,\n",
       " 1109.7536475815668,\n",
       " 1073.1596130674639,\n",
       " 1033.2987420465286,\n",
       " 992.7772820757123,\n",
       " 948.7688852536828,\n",
       " 915.9513276593975,\n",
       " 893.495107643786,\n",
       " 867.2971465808023,\n",
       " 853.3129856443707,\n",
       " 814.3959909351747,\n",
       " 770.834958576775,\n",
       " 769.80040628128,\n",
       " 750.8963925619606,\n",
       " 727.5545213921376,\n",
       " 717.5432423840924]"
      ]
     },
     "execution_count": 47,
     "metadata": {},
     "output_type": "execute_result"
    }
   ],
   "source": [
    "inertias"
   ]
  },
  {
   "cell_type": "code",
   "execution_count": 48,
   "id": "81c0c772",
   "metadata": {},
   "outputs": [
    {
     "data": {
      "image/png": "[encoded data removed]",
      "text/plain": [
       "<Figure size 800x350 with 1 Axes>"
      ]
     },
     "metadata": {},
     "output_type": "display_data"
    }
   ],
   "source": [
    "plt.figure(figsize=(8, 3.5))\n",
    "plt.plot(range(2, 31), inertias, \"bo-\")\n",
    "plt.xlabel(\"$k$\")\n",
    "plt.ylabel(\"Inertia\")\n",
    "plt.grid()\n",
    "plt.show()"
   ]
  },
  {
   "cell_type": "markdown",
   "id": "c2a7cc96",
   "metadata": {},
   "source": [
    "possible cluster 4,5,6 and 7"
   ]
  },
  {
   "cell_type": "code",
   "execution_count": 49,
   "id": "cb30f725",
   "metadata": {},
   "outputs": [],
   "source": [
    "silhouette_scores = []\n",
    "\n",
    "for k in K:\n",
    "    kmeans = KMeans(n_clusters=k, random_state=42)\n",
    "    cluster_labels = kmeans.fit_predict(X_scaled)\n",
    "    silhouette_avg = silhouette_score(X_scaled, cluster_labels)\n",
    "    silhouette_scores.append(silhouette_avg)"
   ]
  },
  {
   "cell_type": "code",
   "execution_count": 50,
   "id": "012db595",
   "metadata": {},
   "outputs": [
    {
     "data": {
      "image/png": "[encoded data removed]",
      "text/plain": [
       "<Figure size 800x300 with 1 Axes>"
      ]
     },
     "metadata": {},
     "output_type": "display_data"
    }
   ],
   "source": [
    "plt.figure(figsize=(8, 3))\n",
    "plt.plot(range(2, 31), silhouette_scores, \"bo-\")\n",
    "plt.xlabel(\"$k$\")\n",
    "plt.ylabel(\"Silhouette score\")\n",
    "plt.grid()\n",
    "plt.show()"
   ]
  }
 ],
 "metadata": {
  "kernelspec": {
   "display_name": ".venv",
   "language": "python",
   "name": "python3"
  },
  "language_info": {
   "codemirror_mode": {
    "name": "ipython",
    "version": 3
   },
   "file_extension": ".py",
   "mimetype": "text/x-python",
   "name": "python",
   "nbconvert_exporter": "python",
   "pygments_lexer": "ipython3",
   "version": "3.11.9"
  }
 },
 "nbformat": 4,
 "nbformat_minor": 5
}
